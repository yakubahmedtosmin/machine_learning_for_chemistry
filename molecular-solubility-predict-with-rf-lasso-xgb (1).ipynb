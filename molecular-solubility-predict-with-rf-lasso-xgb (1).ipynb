{
 "cells": [
  {
   "cell_type": "markdown",
   "metadata": {
    "id": "4klTbUjippGt",
    "papermill": {
     "duration": 0.033384,
     "end_time": "2020-10-04T12:02:13.199169",
     "exception": false,
     "start_time": "2020-10-04T12:02:13.165785",
     "status": "completed"
    },
    "tags": []
   },
   "source": [
    "**Cheminformatics project**"
   ]
  },
  {
   "cell_type": "markdown",
   "metadata": {
    "id": "Qi9TArgHp_Ew",
    "papermill": {
     "duration": 0.029949,
     "end_time": "2020-10-04T12:02:13.259147",
     "exception": false,
     "start_time": "2020-10-04T12:02:13.229198",
     "status": "completed"
    },
    "tags": []
   },
   "source": [
    "# Installing rdkit"
   ]
  },
  {
   "cell_type": "code",
   "execution_count": 1,
   "metadata": {
    "execution": {
     "iopub.execute_input": "2020-10-04T12:02:13.331480Z",
     "iopub.status.busy": "2020-10-04T12:02:13.330772Z",
     "iopub.status.idle": "2020-10-04T12:03:35.823169Z",
     "shell.execute_reply": "2020-10-04T12:03:35.822420Z"
    },
    "id": "MuAaw_34pdBa",
    "outputId": "b69d22c2-0716-4f95-ea83-a0e0e7aa4a45",
    "papermill": {
     "duration": 82.534233,
     "end_time": "2020-10-04T12:03:35.823293",
     "exception": false,
     "start_time": "2020-10-04T12:02:13.289060",
     "status": "completed"
    },
    "tags": []
   },
   "outputs": [
    {
     "name": "stdout",
     "output_type": "stream",
     "text": [
      "--2020-10-04 12:02:13--  https://repo.anaconda.com/miniconda/Miniconda3-py37_4.8.2-Linux-x86_64.sh\r\n",
      "Resolving repo.anaconda.com (repo.anaconda.com)... 104.16.130.3, 104.16.131.3, 2606:4700::6810:8303, ...\r\n",
      "Connecting to repo.anaconda.com (repo.anaconda.com)|104.16.130.3|:443... connected.\r\n",
      "HTTP request sent, awaiting response... 200 OK\r\n",
      "Length: 85055499 (81M) [application/x-sh]\r\n",
      "Saving to: ‘Miniconda3-py37_4.8.2-Linux-x86_64.sh’\r\n",
      "\r\n",
      "Miniconda3-py37_4.8 100%[===================>]  81.12M   125MB/s    in 0.6s    \r\n",
      "\r\n",
      "2020-10-04 12:02:14 (125 MB/s) - ‘Miniconda3-py37_4.8.2-Linux-x86_64.sh’ saved [85055499/85055499]\r\n",
      "\r\n",
      "PREFIX=/usr/local\r\n",
      "Unpacking payload ...\r\n",
      "Collecting package metadata (current_repodata.json): - \b\b\\ \b\b| \b\bdone\r\n",
      "Solving environment: - \b\b\\ \b\bdone\r\n",
      "\r\n",
      "## Package Plan ##\r\n",
      "\r\n",
      "  environment location: /usr/local\r\n",
      "\r\n",
      "  added / updated specs:\r\n",
      "    - _libgcc_mutex==0.1=main\r\n",
      "    - asn1crypto==1.3.0=py37_0\r\n",
      "    - ca-certificates==2020.1.1=0\r\n",
      "    - certifi==2019.11.28=py37_0\r\n",
      "    - cffi==1.14.0=py37h2e261b9_0\r\n",
      "    - chardet==3.0.4=py37_1003\r\n",
      "    - conda-package-handling==1.6.0=py37h7b6447c_0\r\n",
      "    - conda==4.8.2=py37_0\r\n",
      "    - cryptography==2.8=py37h1ba5d50_0\r\n",
      "    - idna==2.8=py37_0\r\n",
      "    - ld_impl_linux-64==2.33.1=h53a641e_7\r\n",
      "    - libedit==3.1.20181209=hc058e9b_0\r\n",
      "    - libffi==3.2.1=hd88cf55_4\r\n",
      "    - libgcc-ng==9.1.0=hdf63c60_0\r\n",
      "    - libstdcxx-ng==9.1.0=hdf63c60_0\r\n",
      "    - ncurses==6.2=he6710b0_0\r\n",
      "    - openssl==1.1.1d=h7b6447c_4\r\n",
      "    - pip==20.0.2=py37_1\r\n",
      "    - pycosat==0.6.3=py37h7b6447c_0\r\n",
      "    - pycparser==2.19=py37_0\r\n",
      "    - pyopenssl==19.1.0=py37_0\r\n",
      "    - pysocks==1.7.1=py37_0\r\n",
      "    - python==3.7.6=h0371630_2\r\n",
      "    - readline==7.0=h7b6447c_5\r\n",
      "    - requests==2.22.0=py37_1\r\n",
      "    - ruamel_yaml==0.15.87=py37h7b6447c_0\r\n",
      "    - setuptools==45.2.0=py37_0\r\n",
      "    - six==1.14.0=py37_0\r\n",
      "    - sqlite==3.31.1=h7b6447c_0\r\n",
      "    - tk==8.6.8=hbc83047_0\r\n",
      "    - tqdm==4.42.1=py_0\r\n",
      "    - urllib3==1.25.8=py37_0\r\n",
      "    - wheel==0.34.2=py37_0\r\n",
      "    - xz==5.2.4=h14c3975_4\r\n",
      "    - yaml==0.1.7=had09818_2\r\n",
      "    - zlib==1.2.11=h7b6447c_3\r\n",
      "\r\n",
      "\r\n",
      "The following NEW packages will be INSTALLED:\r\n",
      "\r\n",
      "  _libgcc_mutex      pkgs/main/linux-64::_libgcc_mutex-0.1-main\r\n",
      "  asn1crypto         pkgs/main/linux-64::asn1crypto-1.3.0-py37_0\r\n",
      "  ca-certificates    pkgs/main/linux-64::ca-certificates-2020.1.1-0\r\n",
      "  certifi            pkgs/main/linux-64::certifi-2019.11.28-py37_0\r\n",
      "  cffi               pkgs/main/linux-64::cffi-1.14.0-py37h2e261b9_0\r\n",
      "  chardet            pkgs/main/linux-64::chardet-3.0.4-py37_1003\r\n",
      "  conda              pkgs/main/linux-64::conda-4.8.2-py37_0\r\n",
      "  conda-package-han~ pkgs/main/linux-64::conda-package-handling-1.6.0-py37h7b6447c_0\r\n",
      "  cryptography       pkgs/main/linux-64::cryptography-2.8-py37h1ba5d50_0\r\n",
      "  idna               pkgs/main/linux-64::idna-2.8-py37_0\r\n",
      "  ld_impl_linux-64   pkgs/main/linux-64::ld_impl_linux-64-2.33.1-h53a641e_7\r\n",
      "  libedit            pkgs/main/linux-64::libedit-3.1.20181209-hc058e9b_0\r\n",
      "  libffi             pkgs/main/linux-64::libffi-3.2.1-hd88cf55_4\r\n",
      "  libgcc-ng          pkgs/main/linux-64::libgcc-ng-9.1.0-hdf63c60_0\r\n",
      "  libstdcxx-ng       pkgs/main/linux-64::libstdcxx-ng-9.1.0-hdf63c60_0\r\n",
      "  ncurses            pkgs/main/linux-64::ncurses-6.2-he6710b0_0\r\n",
      "  openssl            pkgs/main/linux-64::openssl-1.1.1d-h7b6447c_4\r\n",
      "  pip                pkgs/main/linux-64::pip-20.0.2-py37_1\r\n",
      "  pycosat            pkgs/main/linux-64::pycosat-0.6.3-py37h7b6447c_0\r\n",
      "  pycparser          pkgs/main/linux-64::pycparser-2.19-py37_0\r\n",
      "  pyopenssl          pkgs/main/linux-64::pyopenssl-19.1.0-py37_0\r\n",
      "  pysocks            pkgs/main/linux-64::pysocks-1.7.1-py37_0\r\n",
      "  python             pkgs/main/linux-64::python-3.7.6-h0371630_2\r\n",
      "  readline           pkgs/main/linux-64::readline-7.0-h7b6447c_5\r\n",
      "  requests           pkgs/main/linux-64::requests-2.22.0-py37_1\r\n",
      "  ruamel_yaml        pkgs/main/linux-64::ruamel_yaml-0.15.87-py37h7b6447c_0\r\n",
      "  setuptools         pkgs/main/linux-64::setuptools-45.2.0-py37_0\r\n",
      "  six                pkgs/main/linux-64::six-1.14.0-py37_0\r\n",
      "  sqlite             pkgs/main/linux-64::sqlite-3.31.1-h7b6447c_0\r\n",
      "  tk                 pkgs/main/linux-64::tk-8.6.8-hbc83047_0\r\n",
      "  tqdm               pkgs/main/noarch::tqdm-4.42.1-py_0\r\n",
      "  urllib3            pkgs/main/linux-64::urllib3-1.25.8-py37_0\r\n",
      "  wheel              pkgs/main/linux-64::wheel-0.34.2-py37_0\r\n",
      "  xz                 pkgs/main/linux-64::xz-5.2.4-h14c3975_4\r\n",
      "  yaml               pkgs/main/linux-64::yaml-0.1.7-had09818_2\r\n",
      "  zlib               pkgs/main/linux-64::zlib-1.2.11-h7b6447c_3\r\n",
      "\r\n",
      "\r\n",
      "Preparing transaction: / \b\b- \b\b\\ \b\b| \b\b/ \b\bdone\r\n",
      "Executing transaction: \\ \b\b| \b\b/ \b\b- \b\b\\ \b\b| \b\b/ \b\b- \b\b\\ \b\b| \b\b/ \b\b- \b\b\\ \b\b| \b\b/ \b\b- \b\b\\ \b\b| \b\bdone\r\n",
      "installation finished.\r\n",
      "WARNING:\r\n",
      "    You currently have a PYTHONPATH environment variable set. This may cause\r\n",
      "    unexpected behavior when running the Python interpreter in Miniconda3.\r\n",
      "    For best results, please verify that your PYTHONPATH only points to\r\n",
      "    directories of packages that are compatible with the Python interpreter\r\n",
      "    in Miniconda3: /usr/local\r\n",
      "Collecting package metadata (current_repodata.json): - \b\b\\ \b\b| \b\b/ \b\b- \b\b\\ \b\b| \b\b/ \b\b- \b\b\\ \b\b| \b\b/ \b\b- \b\b\\ \b\b| \b\b/ \b\b- \b\b\\ \b\b| \b\b/ \b\b- \b\b\\ \b\b| \b\b/ \b\b- \b\b\\ \b\b| \b\b/ \b\b- \b\b\\ \b\b| \b\b/ \b\b- \b\b\\ \b\b| \b\b/ \b\b- \b\b\\ \b\b| \b\b/ \b\b- \b\b\\ \b\b| \b\b/ \b\b- \b\b\\ \b\b| \b\b/ \b\b- \b\b\\ \b\b| \b\b/ \b\b- \b\b\\ \b\b| \b\b/ \b\b- \b\b\\ \b\b| \b\b/ \b\b- \b\b\\ \b\b| \b\b/ \b\b- \b\b\\ \b\b| \b\b/ \b\b- \b\b\\ \b\b| \b\b/ \b\b- \b\b\\ \b\b| \b\b/ \b\b- \b\b\\ \b\b| \b\b/ \b\b- \b\b\\ \b\b| \b\b/ \b\b- \b\b\\ \b\b| \b\b/ \b\b- \b\b\\ \b\b| \b\b/ \b\b- \b\b\\ \b\b| \b\b/ \b\b- \b\b\\ \b\b| \b\b/ \b\b- \b\b\\ \b\b| \b\b/ \b\b- \b\b\\ \b\b| \b\b/ \b\b- \b\b\\ \b\b| \b\b/ \b\b- \b\b\\ \b\b| \b\b/ \b\b- \b\bdone\r\n",
      "Solving environment: | \b\b/ \b\b- \b\b\\ \b\b| \b\b/ \b\b- \b\b\\ \b\b| \b\b/ \b\b- \b\b\\ \b\b| \b\b/ \b\b- \b\b\\ \b\b| \b\b/ \b\b- \b\b\\ \b\b| \b\b/ \b\b- \b\b\\ \b\b| \b\b/ \b\b- \b\b\\ \b\b| \b\b/ \b\b- \b\b\\ \b\b| \b\b/ \b\b- \b\b\\ \b\b| \b\b/ \b\b- \b\b\\ \b\b| \b\b/ \b\b- \b\b\\ \b\b| \b\b/ \b\b- \b\b\\ \b\b| \b\b/ \b\b- \b\b\\ \b\b| \b\b/ \b\b- \b\b\\ \b\b| \b\b/ \b\b- \b\b\\ \b\b| \b\b/ \b\b- \b\b\\ \b\b| \b\b/ \b\b- \b\b\\ \b\b| \b\b/ \b\b- \b\b\\ \b\b| \b\b/ \b\b- \b\b\\ \b\b| \b\b/ \b\b- \b\b\\ \b\b| \b\b/ \b\b- \b\b\\ \b\b| \b\b/ \b\b- \b\b\\ \b\b| \b\b/ \b\b- \b\b\\ \b\b| \b\b/ \b\b- \b\b\\ \b\b| \b\b/ \b\b- \b\b\\ \b\b| \b\b/ \b\b- \b\b\\ \b\b| \b\b/ \b\b- \b\b\\ \b\bdone\r\n",
      "\r\n",
      "## Package Plan ##\r\n",
      "\r\n",
      "  environment location: /opt/conda\r\n",
      "\r\n",
      "  added / updated specs:\r\n",
      "    - rdkit\r\n",
      "\r\n",
      "\r\n",
      "The following packages will be downloaded:\r\n",
      "\r\n",
      "    package                    |            build\r\n",
      "    ---------------------------|-----------------\r\n",
      "    boost-1.72.0               |   py37h9de70de_0         316 KB  conda-forge\r\n",
      "    openssl-1.1.1h             |       h516909a_0         2.1 MB  conda-forge\r\n",
      "    rdkit-2020.03.6            |   py37h53b44e5_0        24.6 MB  conda-forge\r\n",
      "    ------------------------------------------------------------\r\n",
      "                                           Total:        27.1 MB\r\n",
      "\r\n",
      "The following NEW packages will be INSTALLED:\r\n",
      "\r\n",
      "  boost              conda-forge/linux-64::boost-1.72.0-py37h9de70de_0\r\n",
      "  rdkit              conda-forge/linux-64::rdkit-2020.03.6-py37h53b44e5_0\r\n",
      "\r\n",
      "The following packages will be UPDATED:\r\n",
      "\r\n",
      "  openssl                                 1.1.1g-h516909a_1 --> 1.1.1h-h516909a_0\r\n",
      "\r\n",
      "\r\n",
      "\r\n",
      "Downloading and Extracting Packages\r\n",
      "openssl-1.1.1h       | 2.1 MB    | ##################################### | 100% \r\n",
      "boost-1.72.0         | 316 KB    | ##################################### | 100% \r\n",
      "rdkit-2020.03.6      | 24.6 MB   | ##################################### | 100% \r\n",
      "Preparing transaction: / \b\b- \b\bdone\r\n",
      "Verifying transaction: | \b\b/ \b\b- \b\b\\ \b\b| \b\bdone\r\n",
      "Executing transaction: - \b\b\\ \b\b| \b\b/ \b\b- \b\b\\ \b\b| \b\b/ \b\b- \b\b\\ \b\b| \b\b/ \b\bdone\r\n"
     ]
    }
   ],
   "source": [
    "! wget https://repo.anaconda.com/miniconda/Miniconda3-py37_4.8.2-Linux-x86_64.sh\n",
    "! chmod +x Miniconda3-py37_4.8.2-Linux-x86_64.sh\n",
    "! bash ./Miniconda3-py37_4.8.2-Linux-x86_64.sh -b -f -p /usr/local\n",
    "! conda install -c rdkit rdkit -y\n",
    "import sys \n",
    "sys.path.append('/usr/local/lib/python3.7/site-packages/')\n",
    "import warnings\n",
    "warnings.filterwarnings('ignore')"
   ]
  },
  {
   "cell_type": "markdown",
   "metadata": {
    "id": "AKeawN9qqLD0",
    "papermill": {
     "duration": 0.110701,
     "end_time": "2020-10-04T12:03:36.048574",
     "exception": false,
     "start_time": "2020-10-04T12:03:35.937873",
     "status": "completed"
    },
    "tags": []
   },
   "source": [
    "**Downloading the dataset**"
   ]
  },
  {
   "cell_type": "code",
   "execution_count": 2,
   "metadata": {
    "execution": {
     "iopub.execute_input": "2020-10-04T12:03:36.286151Z",
     "iopub.status.busy": "2020-10-04T12:03:36.282939Z",
     "iopub.status.idle": "2020-10-04T12:03:38.771310Z",
     "shell.execute_reply": "2020-10-04T12:03:38.770758Z"
    },
    "id": "SZ5j3FNap1jP",
    "outputId": "b07e42cd-213e-4ce2-a6e1-e31a2e1e8bac",
    "papermill": {
     "duration": 2.607127,
     "end_time": "2020-10-04T12:03:38.771443",
     "exception": false,
     "start_time": "2020-10-04T12:03:36.164316",
     "status": "completed"
    },
    "tags": []
   },
   "outputs": [
    {
     "name": "stdout",
     "output_type": "stream",
     "text": [
      "--2020-10-04 12:03:36--  https://pubs.acs.org/doi/suppl/10.1021/ci034243x/suppl_file/ci034243xsi20040112_053635.txt\r\n",
      "Resolving pubs.acs.org (pubs.acs.org)... 104.18.0.20, 104.18.1.20\r\n",
      "Connecting to pubs.acs.org (pubs.acs.org)|104.18.0.20|:443... connected.\r\n",
      "HTTP request sent, awaiting response... 302 Found\r\n",
      "Location: https://pubs.acs.org/doi/suppl/10.1021/ci034243x/suppl_file/ci034243xsi20040112_053635.txt?cookieSet=1 [following]\r\n",
      "--2020-10-04 12:03:37--  https://pubs.acs.org/doi/suppl/10.1021/ci034243x/suppl_file/ci034243xsi20040112_053635.txt?cookieSet=1\r\n",
      "Reusing existing connection to pubs.acs.org:443.\r\n",
      "HTTP request sent, awaiting response... 302 Found\r\n",
      "Location: https://pubs.acs.org/doi/suppl/10.1021/ci034243x/suppl_file/ci034243xsi20040112_053635.txt [following]\r\n",
      "--2020-10-04 12:03:37--  https://pubs.acs.org/doi/suppl/10.1021/ci034243x/suppl_file/ci034243xsi20040112_053635.txt\r\n",
      "Reusing existing connection to pubs.acs.org:443.\r\n",
      "HTTP request sent, awaiting response... 200 OK\r\n",
      "Length: 60034 (59K) [text/plain]\r\n",
      "Saving to: ‘ci034243xsi20040112_053635.txt’\r\n",
      "\r\n",
      "ci034243xsi20040112 100%[===================>]  58.63K  --.-KB/s    in 0.005s  \r\n",
      "\r\n",
      "2020-10-04 12:03:38 (10.9 MB/s) - ‘ci034243xsi20040112_053635.txt’ saved [60034/60034]\r\n",
      "\r\n"
     ]
    }
   ],
   "source": [
    "! wget https://pubs.acs.org/doi/suppl/10.1021/ci034243x/suppl_file/ci034243xsi20040112_053635.txt"
   ]
  },
  {
   "cell_type": "code",
   "execution_count": 3,
   "metadata": {
    "execution": {
     "iopub.execute_input": "2020-10-04T12:03:39.003534Z",
     "iopub.status.busy": "2020-10-04T12:03:39.000358Z",
     "iopub.status.idle": "2020-10-04T12:03:40.466349Z",
     "shell.execute_reply": "2020-10-04T12:03:40.465613Z"
    },
    "id": "8Bh5SWm2qWY0",
    "outputId": "b321e248-99b8-40fd-add5-5b1e9be2aed8",
    "papermill": {
     "duration": 1.583143,
     "end_time": "2020-10-04T12:03:40.466471",
     "exception": false,
     "start_time": "2020-10-04T12:03:38.883328",
     "status": "completed"
    },
    "tags": []
   },
   "outputs": [
    {
     "name": "stdout",
     "output_type": "stream",
     "text": [
      "--2020-10-04 12:03:39--  https://raw.githubusercontent.com/dataprofessor/data/master/delaney.csv\r\n",
      "Resolving raw.githubusercontent.com (raw.githubusercontent.com)... 151.101.200.133\r\n",
      "Connecting to raw.githubusercontent.com (raw.githubusercontent.com)|151.101.200.133|:443... connected.\r\n",
      "HTTP request sent, awaiting response... 200 OK\r\n",
      "Length: 58889 (58K) [text/plain]\r\n",
      "Saving to: ‘delaney.csv’\r\n",
      "\r\n",
      "delaney.csv         100%[===================>]  57.51K   322KB/s    in 0.2s    \r\n",
      "\r\n",
      "2020-10-04 12:03:40 (322 KB/s) - ‘delaney.csv’ saved [58889/58889]\r\n",
      "\r\n"
     ]
    }
   ],
   "source": [
    "! wget https://raw.githubusercontent.com/dataprofessor/data/master/delaney.csv"
   ]
  },
  {
   "cell_type": "markdown",
   "metadata": {
    "id": "OloOIaKVsEn8",
    "papermill": {
     "duration": 0.113786,
     "end_time": "2020-10-04T12:03:40.696217",
     "exception": false,
     "start_time": "2020-10-04T12:03:40.582431",
     "status": "completed"
    },
    "tags": []
   },
   "source": [
    "**Reading the dataset**"
   ]
  },
  {
   "cell_type": "code",
   "execution_count": 4,
   "metadata": {
    "execution": {
     "iopub.execute_input": "2020-10-04T12:03:40.932825Z",
     "iopub.status.busy": "2020-10-04T12:03:40.932154Z",
     "iopub.status.idle": "2020-10-04T12:03:40.962403Z",
     "shell.execute_reply": "2020-10-04T12:03:40.961826Z"
    },
    "id": "4WMS-GV7qcPC",
    "outputId": "1da231df-9b5c-47ae-ac50-fbc5d902d757",
    "papermill": {
     "duration": 0.152411,
     "end_time": "2020-10-04T12:03:40.962524",
     "exception": false,
     "start_time": "2020-10-04T12:03:40.810113",
     "status": "completed"
    },
    "tags": []
   },
   "outputs": [
    {
     "data": {
      "text/html": [
       "<div>\n",
       "<style scoped>\n",
       "    .dataframe tbody tr th:only-of-type {\n",
       "        vertical-align: middle;\n",
       "    }\n",
       "\n",
       "    .dataframe tbody tr th {\n",
       "        vertical-align: top;\n",
       "    }\n",
       "\n",
       "    .dataframe thead th {\n",
       "        text-align: right;\n",
       "    }\n",
       "</style>\n",
       "<table border=\"1\" class=\"dataframe\">\n",
       "  <thead>\n",
       "    <tr style=\"text-align: right;\">\n",
       "      <th></th>\n",
       "      <th>Compound ID</th>\n",
       "      <th>measured log(solubility:mol/L)</th>\n",
       "      <th>ESOL predicted log(solubility:mol/L)</th>\n",
       "      <th>SMILES</th>\n",
       "    </tr>\n",
       "  </thead>\n",
       "  <tbody>\n",
       "    <tr>\n",
       "      <th>0</th>\n",
       "      <td>1,1,1,2-Tetrachloroethane</td>\n",
       "      <td>-2.18</td>\n",
       "      <td>-2.794</td>\n",
       "      <td>ClCC(Cl)(Cl)Cl</td>\n",
       "    </tr>\n",
       "    <tr>\n",
       "      <th>1</th>\n",
       "      <td>1,1,1-Trichloroethane</td>\n",
       "      <td>-2.00</td>\n",
       "      <td>-2.232</td>\n",
       "      <td>CC(Cl)(Cl)Cl</td>\n",
       "    </tr>\n",
       "    <tr>\n",
       "      <th>2</th>\n",
       "      <td>1,1,2,2-Tetrachloroethane</td>\n",
       "      <td>-1.74</td>\n",
       "      <td>-2.549</td>\n",
       "      <td>ClC(Cl)C(Cl)Cl</td>\n",
       "    </tr>\n",
       "    <tr>\n",
       "      <th>3</th>\n",
       "      <td>1,1,2-Trichloroethane</td>\n",
       "      <td>-1.48</td>\n",
       "      <td>-1.961</td>\n",
       "      <td>ClCC(Cl)Cl</td>\n",
       "    </tr>\n",
       "    <tr>\n",
       "      <th>4</th>\n",
       "      <td>1,1,2-Trichlorotrifluoroethane</td>\n",
       "      <td>-3.04</td>\n",
       "      <td>-3.077</td>\n",
       "      <td>FC(F)(Cl)C(F)(Cl)Cl</td>\n",
       "    </tr>\n",
       "  </tbody>\n",
       "</table>\n",
       "</div>"
      ],
      "text/plain": [
       "                      Compound ID  measured log(solubility:mol/L)  \\\n",
       "0       1,1,1,2-Tetrachloroethane                           -2.18   \n",
       "1           1,1,1-Trichloroethane                           -2.00   \n",
       "2       1,1,2,2-Tetrachloroethane                           -1.74   \n",
       "3           1,1,2-Trichloroethane                           -1.48   \n",
       "4  1,1,2-Trichlorotrifluoroethane                           -3.04   \n",
       "\n",
       "   ESOL predicted log(solubility:mol/L)               SMILES  \n",
       "0                                -2.794       ClCC(Cl)(Cl)Cl  \n",
       "1                                -2.232         CC(Cl)(Cl)Cl  \n",
       "2                                -2.549       ClC(Cl)C(Cl)Cl  \n",
       "3                                -1.961           ClCC(Cl)Cl  \n",
       "4                                -3.077  FC(F)(Cl)C(F)(Cl)Cl  "
      ]
     },
     "execution_count": 4,
     "metadata": {},
     "output_type": "execute_result"
    }
   ],
   "source": [
    "import pandas as pd\n",
    "import numpy as np\n",
    "data=pd.read_csv('delaney.csv')\n",
    "data.head()"
   ]
  },
  {
   "cell_type": "code",
   "execution_count": 5,
   "metadata": {
    "execution": {
     "iopub.execute_input": "2020-10-04T12:03:41.205090Z",
     "iopub.status.busy": "2020-10-04T12:03:41.204102Z",
     "iopub.status.idle": "2020-10-04T12:03:41.207431Z",
     "shell.execute_reply": "2020-10-04T12:03:41.206885Z"
    },
    "id": "SEWhypFj8_NZ",
    "papermill": {
     "duration": 0.130496,
     "end_time": "2020-10-04T12:03:41.207554",
     "exception": false,
     "start_time": "2020-10-04T12:03:41.077058",
     "status": "completed"
    },
    "tags": []
   },
   "outputs": [],
   "source": [
    "data_slice=data[['measured log(solubility:mol/L)','ESOL predicted log(solubility:mol/L)']]"
   ]
  },
  {
   "cell_type": "code",
   "execution_count": 6,
   "metadata": {
    "execution": {
     "iopub.execute_input": "2020-10-04T12:03:41.444305Z",
     "iopub.status.busy": "2020-10-04T12:03:41.443646Z",
     "iopub.status.idle": "2020-10-04T12:03:41.446848Z",
     "shell.execute_reply": "2020-10-04T12:03:41.446241Z"
    },
    "papermill": {
     "duration": 0.123547,
     "end_time": "2020-10-04T12:03:41.446956",
     "exception": false,
     "start_time": "2020-10-04T12:03:41.323409",
     "status": "completed"
    },
    "tags": []
   },
   "outputs": [],
   "source": [
    "data_slice2=data_slice[['measured log(solubility:mol/L)']]"
   ]
  },
  {
   "cell_type": "markdown",
   "metadata": {
    "id": "rqbY2pMUsR5D",
    "papermill": {
     "duration": 0.113473,
     "end_time": "2020-10-04T12:03:41.675151",
     "exception": false,
     "start_time": "2020-10-04T12:03:41.561678",
     "status": "completed"
    },
    "tags": []
   },
   "source": [
    "**Converting SMILES object to mol object for better calculation**"
   ]
  },
  {
   "cell_type": "code",
   "execution_count": 7,
   "metadata": {
    "execution": {
     "iopub.execute_input": "2020-10-04T12:03:41.909959Z",
     "iopub.status.busy": "2020-10-04T12:03:41.909080Z",
     "iopub.status.idle": "2020-10-04T12:03:42.182860Z",
     "shell.execute_reply": "2020-10-04T12:03:42.182161Z"
    },
    "id": "uhauGzNt4uAg",
    "papermill": {
     "duration": 0.393108,
     "end_time": "2020-10-04T12:03:42.182973",
     "exception": false,
     "start_time": "2020-10-04T12:03:41.789865",
     "status": "completed"
    },
    "tags": []
   },
   "outputs": [],
   "source": [
    "from rdkit import Chem\n",
    "mol_lst=[]\n",
    "for i in data.SMILES:\n",
    "    mol=Chem.MolFromSmiles(i)\n",
    "    mol_lst.append(mol)"
   ]
  },
  {
   "cell_type": "markdown",
   "metadata": {
    "papermill": {
     "duration": 0.115068,
     "end_time": "2020-10-04T12:03:42.413614",
     "exception": false,
     "start_time": "2020-10-04T12:03:42.298546",
     "status": "completed"
    },
    "tags": []
   },
   "source": [
    "**Calculating the descriptors**"
   ]
  },
  {
   "cell_type": "code",
   "execution_count": 8,
   "metadata": {
    "execution": {
     "iopub.execute_input": "2020-10-04T12:03:42.648358Z",
     "iopub.status.busy": "2020-10-04T12:03:42.647509Z",
     "iopub.status.idle": "2020-10-04T12:03:42.668125Z",
     "shell.execute_reply": "2020-10-04T12:03:42.667520Z"
    },
    "id": "Vm9bIsJd4udP",
    "papermill": {
     "duration": 0.139485,
     "end_time": "2020-10-04T12:03:42.668241",
     "exception": false,
     "start_time": "2020-10-04T12:03:42.528756",
     "status": "completed"
    },
    "tags": []
   },
   "outputs": [],
   "source": [
    "from rdkit.Chem import Descriptors"
   ]
  },
  {
   "cell_type": "code",
   "execution_count": 9,
   "metadata": {
    "execution": {
     "iopub.execute_input": "2020-10-04T12:03:42.902304Z",
     "iopub.status.busy": "2020-10-04T12:03:42.901661Z",
     "iopub.status.idle": "2020-10-04T12:03:42.905959Z",
     "shell.execute_reply": "2020-10-04T12:03:42.905370Z"
    },
    "id": "R-fv1A4m4uHM",
    "papermill": {
     "duration": 0.12267,
     "end_time": "2020-10-04T12:03:42.906094",
     "exception": false,
     "start_time": "2020-10-04T12:03:42.783424",
     "status": "completed"
    },
    "tags": []
   },
   "outputs": [],
   "source": [
    "\n",
    "from rdkit.ML.Descriptors import MoleculeDescriptors"
   ]
  },
  {
   "cell_type": "code",
   "execution_count": 10,
   "metadata": {
    "execution": {
     "iopub.execute_input": "2020-10-04T12:03:43.140527Z",
     "iopub.status.busy": "2020-10-04T12:03:43.139684Z",
     "iopub.status.idle": "2020-10-04T12:03:43.142855Z",
     "shell.execute_reply": "2020-10-04T12:03:43.142386Z"
    },
    "id": "a80SdO0h4uEk",
    "papermill": {
     "duration": 0.122342,
     "end_time": "2020-10-04T12:03:43.142962",
     "exception": false,
     "start_time": "2020-10-04T12:03:43.020620",
     "status": "completed"
    },
    "tags": []
   },
   "outputs": [],
   "source": [
    "desc_lst=[i[0] for i in Descriptors._descList]\n",
    "descriptor=MoleculeDescriptors.MolecularDescriptorCalculator(desc_lst)"
   ]
  },
  {
   "cell_type": "code",
   "execution_count": 11,
   "metadata": {
    "execution": {
     "iopub.execute_input": "2020-10-04T12:03:43.379605Z",
     "iopub.status.busy": "2020-10-04T12:03:43.378933Z",
     "iopub.status.idle": "2020-10-04T12:03:51.468669Z",
     "shell.execute_reply": "2020-10-04T12:03:51.468134Z"
    },
    "id": "LNmZhjA24t3A",
    "papermill": {
     "duration": 8.210436,
     "end_time": "2020-10-04T12:03:51.468797",
     "exception": false,
     "start_time": "2020-10-04T12:03:43.258361",
     "status": "completed"
    },
    "tags": []
   },
   "outputs": [],
   "source": [
    "descrs = []\n",
    "for i in range(len(mol_lst)):\n",
    "    descrs.append(descriptor.CalcDescriptors(mol_lst[i]))"
   ]
  },
  {
   "cell_type": "code",
   "execution_count": 12,
   "metadata": {
    "execution": {
     "iopub.execute_input": "2020-10-04T12:03:51.703785Z",
     "iopub.status.busy": "2020-10-04T12:03:51.703076Z",
     "iopub.status.idle": "2020-10-04T12:03:51.706969Z",
     "shell.execute_reply": "2020-10-04T12:03:51.706357Z"
    },
    "id": "XUWYfi6GwDcD",
    "outputId": "28a39578-db1d-4688-df81-b72f641cef25",
    "papermill": {
     "duration": 0.123376,
     "end_time": "2020-10-04T12:03:51.707098",
     "exception": false,
     "start_time": "2020-10-04T12:03:51.583722",
     "status": "completed"
    },
    "tags": []
   },
   "outputs": [
    {
     "data": {
      "text/plain": [
       "1144"
      ]
     },
     "execution_count": 12,
     "metadata": {},
     "output_type": "execute_result"
    }
   ],
   "source": [
    "len(descrs)"
   ]
  },
  {
   "cell_type": "code",
   "execution_count": 13,
   "metadata": {
    "execution": {
     "iopub.execute_input": "2020-10-04T12:03:51.942028Z",
     "iopub.status.busy": "2020-10-04T12:03:51.941352Z",
     "iopub.status.idle": "2020-10-04T12:03:52.008225Z",
     "shell.execute_reply": "2020-10-04T12:03:52.007660Z"
    },
    "id": "OZ_KwdIx1IxG",
    "papermill": {
     "duration": 0.185712,
     "end_time": "2020-10-04T12:03:52.008338",
     "exception": false,
     "start_time": "2020-10-04T12:03:51.822626",
     "status": "completed"
    },
    "tags": []
   },
   "outputs": [],
   "source": [
    "df=pd.DataFrame(descrs,columns=desc_lst)\n"
   ]
  },
  {
   "cell_type": "code",
   "execution_count": 14,
   "metadata": {
    "execution": {
     "iopub.execute_input": "2020-10-04T12:03:52.306664Z",
     "iopub.status.busy": "2020-10-04T12:03:52.305868Z",
     "iopub.status.idle": "2020-10-04T12:03:52.310648Z",
     "shell.execute_reply": "2020-10-04T12:03:52.310179Z"
    },
    "id": "Csh6gvCs8g0F",
    "outputId": "7167f94f-eca3-4ba6-db2c-ad1fc8cd87ac",
    "papermill": {
     "duration": 0.141494,
     "end_time": "2020-10-04T12:03:52.310758",
     "exception": false,
     "start_time": "2020-10-04T12:03:52.169264",
     "status": "completed"
    },
    "tags": []
   },
   "outputs": [
    {
     "data": {
      "text/html": [
       "<div>\n",
       "<style scoped>\n",
       "    .dataframe tbody tr th:only-of-type {\n",
       "        vertical-align: middle;\n",
       "    }\n",
       "\n",
       "    .dataframe tbody tr th {\n",
       "        vertical-align: top;\n",
       "    }\n",
       "\n",
       "    .dataframe thead th {\n",
       "        text-align: right;\n",
       "    }\n",
       "</style>\n",
       "<table border=\"1\" class=\"dataframe\">\n",
       "  <thead>\n",
       "    <tr style=\"text-align: right;\">\n",
       "      <th></th>\n",
       "      <th>MaxEStateIndex</th>\n",
       "      <th>MinEStateIndex</th>\n",
       "      <th>MaxAbsEStateIndex</th>\n",
       "      <th>MinAbsEStateIndex</th>\n",
       "      <th>qed</th>\n",
       "      <th>MolWt</th>\n",
       "      <th>HeavyAtomMolWt</th>\n",
       "      <th>ExactMolWt</th>\n",
       "      <th>NumValenceElectrons</th>\n",
       "      <th>NumRadicalElectrons</th>\n",
       "      <th>...</th>\n",
       "      <th>fr_sulfide</th>\n",
       "      <th>fr_sulfonamd</th>\n",
       "      <th>fr_sulfone</th>\n",
       "      <th>fr_term_acetylene</th>\n",
       "      <th>fr_tetrazole</th>\n",
       "      <th>fr_thiazole</th>\n",
       "      <th>fr_thiocyan</th>\n",
       "      <th>fr_thiophene</th>\n",
       "      <th>fr_unbrch_alkane</th>\n",
       "      <th>fr_urea</th>\n",
       "    </tr>\n",
       "  </thead>\n",
       "  <tbody>\n",
       "    <tr>\n",
       "      <th>0</th>\n",
       "      <td>5.116512</td>\n",
       "      <td>-1.276235</td>\n",
       "      <td>5.116512</td>\n",
       "      <td>0.039352</td>\n",
       "      <td>0.487138</td>\n",
       "      <td>167.850</td>\n",
       "      <td>165.834</td>\n",
       "      <td>165.891061</td>\n",
       "      <td>38</td>\n",
       "      <td>0</td>\n",
       "      <td>...</td>\n",
       "      <td>0</td>\n",
       "      <td>0</td>\n",
       "      <td>0</td>\n",
       "      <td>0</td>\n",
       "      <td>0</td>\n",
       "      <td>0</td>\n",
       "      <td>0</td>\n",
       "      <td>0</td>\n",
       "      <td>0</td>\n",
       "      <td>0</td>\n",
       "    </tr>\n",
       "    <tr>\n",
       "      <th>1</th>\n",
       "      <td>5.060957</td>\n",
       "      <td>-1.083333</td>\n",
       "      <td>5.060957</td>\n",
       "      <td>1.083333</td>\n",
       "      <td>0.445171</td>\n",
       "      <td>133.405</td>\n",
       "      <td>130.381</td>\n",
       "      <td>131.930033</td>\n",
       "      <td>32</td>\n",
       "      <td>0</td>\n",
       "      <td>...</td>\n",
       "      <td>0</td>\n",
       "      <td>0</td>\n",
       "      <td>0</td>\n",
       "      <td>0</td>\n",
       "      <td>0</td>\n",
       "      <td>0</td>\n",
       "      <td>0</td>\n",
       "      <td>0</td>\n",
       "      <td>0</td>\n",
       "      <td>0</td>\n",
       "    </tr>\n",
       "    <tr>\n",
       "      <th>2</th>\n",
       "      <td>5.114198</td>\n",
       "      <td>-0.672840</td>\n",
       "      <td>5.114198</td>\n",
       "      <td>0.672840</td>\n",
       "      <td>0.527312</td>\n",
       "      <td>167.850</td>\n",
       "      <td>165.834</td>\n",
       "      <td>165.891061</td>\n",
       "      <td>38</td>\n",
       "      <td>0</td>\n",
       "      <td>...</td>\n",
       "      <td>0</td>\n",
       "      <td>0</td>\n",
       "      <td>0</td>\n",
       "      <td>0</td>\n",
       "      <td>0</td>\n",
       "      <td>0</td>\n",
       "      <td>0</td>\n",
       "      <td>0</td>\n",
       "      <td>0</td>\n",
       "      <td>0</td>\n",
       "    </tr>\n",
       "    <tr>\n",
       "      <th>3</th>\n",
       "      <td>5.095679</td>\n",
       "      <td>-0.405864</td>\n",
       "      <td>5.095679</td>\n",
       "      <td>0.308642</td>\n",
       "      <td>0.480258</td>\n",
       "      <td>133.405</td>\n",
       "      <td>130.381</td>\n",
       "      <td>131.930033</td>\n",
       "      <td>32</td>\n",
       "      <td>0</td>\n",
       "      <td>...</td>\n",
       "      <td>0</td>\n",
       "      <td>0</td>\n",
       "      <td>0</td>\n",
       "      <td>0</td>\n",
       "      <td>0</td>\n",
       "      <td>0</td>\n",
       "      <td>0</td>\n",
       "      <td>0</td>\n",
       "      <td>0</td>\n",
       "      <td>0</td>\n",
       "    </tr>\n",
       "    <tr>\n",
       "      <th>4</th>\n",
       "      <td>11.544753</td>\n",
       "      <td>-4.226080</td>\n",
       "      <td>11.544753</td>\n",
       "      <td>3.685957</td>\n",
       "      <td>0.553756</td>\n",
       "      <td>187.375</td>\n",
       "      <td>187.375</td>\n",
       "      <td>185.901768</td>\n",
       "      <td>50</td>\n",
       "      <td>0</td>\n",
       "      <td>...</td>\n",
       "      <td>0</td>\n",
       "      <td>0</td>\n",
       "      <td>0</td>\n",
       "      <td>0</td>\n",
       "      <td>0</td>\n",
       "      <td>0</td>\n",
       "      <td>0</td>\n",
       "      <td>0</td>\n",
       "      <td>0</td>\n",
       "      <td>0</td>\n",
       "    </tr>\n",
       "  </tbody>\n",
       "</table>\n",
       "<p>5 rows × 200 columns</p>\n",
       "</div>"
      ],
      "text/plain": [
       "   MaxEStateIndex  MinEStateIndex  MaxAbsEStateIndex  MinAbsEStateIndex  \\\n",
       "0        5.116512       -1.276235           5.116512           0.039352   \n",
       "1        5.060957       -1.083333           5.060957           1.083333   \n",
       "2        5.114198       -0.672840           5.114198           0.672840   \n",
       "3        5.095679       -0.405864           5.095679           0.308642   \n",
       "4       11.544753       -4.226080          11.544753           3.685957   \n",
       "\n",
       "        qed    MolWt  HeavyAtomMolWt  ExactMolWt  NumValenceElectrons  \\\n",
       "0  0.487138  167.850         165.834  165.891061                   38   \n",
       "1  0.445171  133.405         130.381  131.930033                   32   \n",
       "2  0.527312  167.850         165.834  165.891061                   38   \n",
       "3  0.480258  133.405         130.381  131.930033                   32   \n",
       "4  0.553756  187.375         187.375  185.901768                   50   \n",
       "\n",
       "   NumRadicalElectrons  ...  fr_sulfide  fr_sulfonamd  fr_sulfone  \\\n",
       "0                    0  ...           0             0           0   \n",
       "1                    0  ...           0             0           0   \n",
       "2                    0  ...           0             0           0   \n",
       "3                    0  ...           0             0           0   \n",
       "4                    0  ...           0             0           0   \n",
       "\n",
       "   fr_term_acetylene  fr_tetrazole  fr_thiazole  fr_thiocyan  fr_thiophene  \\\n",
       "0                  0             0            0            0             0   \n",
       "1                  0             0            0            0             0   \n",
       "2                  0             0            0            0             0   \n",
       "3                  0             0            0            0             0   \n",
       "4                  0             0            0            0             0   \n",
       "\n",
       "   fr_unbrch_alkane  fr_urea  \n",
       "0                 0        0  \n",
       "1                 0        0  \n",
       "2                 0        0  \n",
       "3                 0        0  \n",
       "4                 0        0  \n",
       "\n",
       "[5 rows x 200 columns]"
      ]
     },
     "execution_count": 14,
     "metadata": {},
     "output_type": "execute_result"
    }
   ],
   "source": [
    "df.head()"
   ]
  },
  {
   "cell_type": "code",
   "execution_count": 15,
   "metadata": {
    "execution": {
     "iopub.execute_input": "2020-10-04T12:03:52.549187Z",
     "iopub.status.busy": "2020-10-04T12:03:52.548572Z",
     "iopub.status.idle": "2020-10-04T12:03:53.227494Z",
     "shell.execute_reply": "2020-10-04T12:03:53.226796Z"
    },
    "id": "9adDsgcqCcU9",
    "papermill": {
     "duration": 0.80017,
     "end_time": "2020-10-04T12:03:53.227610",
     "exception": false,
     "start_time": "2020-10-04T12:03:52.427440",
     "status": "completed"
    },
    "tags": []
   },
   "outputs": [],
   "source": [
    "import numpy as np\n",
    "from scipy.stats import mannwhitneyu"
   ]
  },
  {
   "cell_type": "code",
   "execution_count": 16,
   "metadata": {
    "execution": {
     "iopub.execute_input": "2020-10-04T12:03:53.473590Z",
     "iopub.status.busy": "2020-10-04T12:03:53.472814Z",
     "iopub.status.idle": "2020-10-04T12:03:53.480078Z",
     "shell.execute_reply": "2020-10-04T12:03:53.479590Z"
    },
    "id": "tuH_c4Gt8sdM",
    "outputId": "2aef7df0-3011-488f-b9d0-bdeab6d9d877",
    "papermill": {
     "duration": 0.134719,
     "end_time": "2020-10-04T12:03:53.480195",
     "exception": false,
     "start_time": "2020-10-04T12:03:53.345476",
     "status": "completed"
    },
    "tags": []
   },
   "outputs": [
    {
     "name": "stdout",
     "output_type": "stream",
     "text": [
      "Statistics=24056.000, p=0.000\n",
      "reject the null hypothesis(different hypothesis)\n"
     ]
    }
   ],
   "source": [
    "Stat,p=mannwhitneyu(data_slice[['measured log(solubility:mol/L)']], df[['MolLogP']])\n",
    "print(\"Statistics=%.3f, p=%.3f\"%(Stat,p))\n",
    "alpha=0.05\n",
    "if p>alpha:\n",
    "    print(\"reject to fail the null hypothesis(same distributation)\")\n",
    "else:\n",
    "    print(\"reject the null hypothesis(different hypothesis)\")"
   ]
  },
  {
   "cell_type": "code",
   "execution_count": 17,
   "metadata": {
    "execution": {
     "iopub.execute_input": "2020-10-04T12:03:53.719714Z",
     "iopub.status.busy": "2020-10-04T12:03:53.718934Z",
     "iopub.status.idle": "2020-10-04T12:03:53.722001Z",
     "shell.execute_reply": "2020-10-04T12:03:53.721375Z"
    },
    "papermill": {
     "duration": 0.125453,
     "end_time": "2020-10-04T12:03:53.722119",
     "exception": false,
     "start_time": "2020-10-04T12:03:53.596666",
     "status": "completed"
    },
    "tags": []
   },
   "outputs": [],
   "source": [
    "data_slice2.rename(columns = {'measured log(solubility:mol/L)':'ground_sol'}, inplace = True) "
   ]
  },
  {
   "cell_type": "code",
   "execution_count": 18,
   "metadata": {
    "execution": {
     "iopub.execute_input": "2020-10-04T12:03:53.962972Z",
     "iopub.status.busy": "2020-10-04T12:03:53.962067Z",
     "iopub.status.idle": "2020-10-04T12:03:53.965283Z",
     "shell.execute_reply": "2020-10-04T12:03:53.964775Z"
    },
    "id": "qZd2FpBe-D-J",
    "papermill": {
     "duration": 0.125354,
     "end_time": "2020-10-04T12:03:53.965410",
     "exception": false,
     "start_time": "2020-10-04T12:03:53.840056",
     "status": "completed"
    },
    "tags": []
   },
   "outputs": [],
   "source": [
    "#it shows the two samples does not belongs to same population\n",
    "#or\n",
    "#the probability is 50% that a randomly drawn member of the first population will not exceed a member of the second population.\n",
    "#form this we can infer that MolLogP "
   ]
  },
  {
   "cell_type": "markdown",
   "metadata": {
    "papermill": {
     "duration": 0.117701,
     "end_time": "2020-10-04T12:03:54.200417",
     "exception": false,
     "start_time": "2020-10-04T12:03:54.082716",
     "status": "completed"
    },
    "tags": []
   },
   "source": [
    "**Selecting the features**"
   ]
  },
  {
   "cell_type": "code",
   "execution_count": 19,
   "metadata": {
    "execution": {
     "iopub.execute_input": "2020-10-04T12:03:54.441704Z",
     "iopub.status.busy": "2020-10-04T12:03:54.441047Z",
     "iopub.status.idle": "2020-10-04T12:03:54.761213Z",
     "shell.execute_reply": "2020-10-04T12:03:54.760522Z"
    },
    "id": "4Y5bAGV-AkGJ",
    "papermill": {
     "duration": 0.442557,
     "end_time": "2020-10-04T12:03:54.761339",
     "exception": false,
     "start_time": "2020-10-04T12:03:54.318782",
     "status": "completed"
    },
    "tags": []
   },
   "outputs": [],
   "source": [
    "from sklearn.model_selection import train_test_split\n",
    "from sklearn.tree import DecisionTreeClassifier, DecisionTreeRegressor\n",
    "from sklearn.metrics import roc_auc_score, mean_squared_error"
   ]
  },
  {
   "cell_type": "markdown",
   "metadata": {
    "papermill": {
     "duration": 0.11653,
     "end_time": "2020-10-04T12:03:54.997162",
     "exception": false,
     "start_time": "2020-10-04T12:03:54.880632",
     "status": "completed"
    },
    "tags": []
   },
   "source": [
    "**for feature selection we are using Univariate roc-auc**"
   ]
  },
  {
   "cell_type": "code",
   "execution_count": 20,
   "metadata": {
    "execution": {
     "iopub.execute_input": "2020-10-04T12:03:55.238301Z",
     "iopub.status.busy": "2020-10-04T12:03:55.237384Z",
     "iopub.status.idle": "2020-10-04T12:03:55.241681Z",
     "shell.execute_reply": "2020-10-04T12:03:55.241085Z"
    },
    "papermill": {
     "duration": 0.126926,
     "end_time": "2020-10-04T12:03:55.241809",
     "exception": false,
     "start_time": "2020-10-04T12:03:55.114883",
     "status": "completed"
    },
    "tags": []
   },
   "outputs": [
    {
     "data": {
      "text/plain": [
       "(1144, 1)"
      ]
     },
     "execution_count": 20,
     "metadata": {},
     "output_type": "execute_result"
    }
   ],
   "source": [
    "data_slice2.shape"
   ]
  },
  {
   "cell_type": "code",
   "execution_count": 21,
   "metadata": {
    "execution": {
     "iopub.execute_input": "2020-10-04T12:03:55.484371Z",
     "iopub.status.busy": "2020-10-04T12:03:55.483578Z",
     "iopub.status.idle": "2020-10-04T12:03:55.487184Z",
     "shell.execute_reply": "2020-10-04T12:03:55.487614Z"
    },
    "papermill": {
     "duration": 0.127879,
     "end_time": "2020-10-04T12:03:55.487759",
     "exception": false,
     "start_time": "2020-10-04T12:03:55.359880",
     "status": "completed"
    },
    "tags": []
   },
   "outputs": [
    {
     "data": {
      "text/plain": [
       "(1144, 200)"
      ]
     },
     "execution_count": 21,
     "metadata": {},
     "output_type": "execute_result"
    }
   ],
   "source": [
    "df.shape"
   ]
  },
  {
   "cell_type": "code",
   "execution_count": 22,
   "metadata": {
    "execution": {
     "iopub.execute_input": "2020-10-04T12:03:55.730301Z",
     "iopub.status.busy": "2020-10-04T12:03:55.729619Z",
     "iopub.status.idle": "2020-10-04T12:03:55.732359Z",
     "shell.execute_reply": "2020-10-04T12:03:55.731745Z"
    },
    "papermill": {
     "duration": 0.125612,
     "end_time": "2020-10-04T12:03:55.732472",
     "exception": false,
     "start_time": "2020-10-04T12:03:55.606860",
     "status": "completed"
    },
    "tags": []
   },
   "outputs": [],
   "source": [
    "X=df\n",
    "Y=data_slice2"
   ]
  },
  {
   "cell_type": "code",
   "execution_count": 23,
   "metadata": {
    "execution": {
     "iopub.execute_input": "2020-10-04T12:03:55.983857Z",
     "iopub.status.busy": "2020-10-04T12:03:55.980629Z",
     "iopub.status.idle": "2020-10-04T12:03:55.987911Z",
     "shell.execute_reply": "2020-10-04T12:03:55.987404Z"
    },
    "papermill": {
     "duration": 0.134713,
     "end_time": "2020-10-04T12:03:55.988051",
     "exception": false,
     "start_time": "2020-10-04T12:03:55.853338",
     "status": "completed"
    },
    "tags": []
   },
   "outputs": [],
   "source": [
    "X_train, X_test, Y_train, Y_test = train_test_split(X, Y, test_size=0.2)"
   ]
  },
  {
   "cell_type": "code",
   "execution_count": 24,
   "metadata": {
    "execution": {
     "iopub.execute_input": "2020-10-04T12:03:56.231410Z",
     "iopub.status.busy": "2020-10-04T12:03:56.230565Z",
     "iopub.status.idle": "2020-10-04T12:03:56.234652Z",
     "shell.execute_reply": "2020-10-04T12:03:56.235139Z"
    },
    "papermill": {
     "duration": 0.12785,
     "end_time": "2020-10-04T12:03:56.235290",
     "exception": false,
     "start_time": "2020-10-04T12:03:56.107440",
     "status": "completed"
    },
    "tags": []
   },
   "outputs": [
    {
     "data": {
      "text/plain": [
       "((915, 200), (915, 1))"
      ]
     },
     "execution_count": 24,
     "metadata": {},
     "output_type": "execute_result"
    }
   ],
   "source": [
    "X_train.shape, Y_train.shape"
   ]
  },
  {
   "cell_type": "code",
   "execution_count": 25,
   "metadata": {
    "execution": {
     "iopub.execute_input": "2020-10-04T12:03:56.478485Z",
     "iopub.status.busy": "2020-10-04T12:03:56.477825Z",
     "iopub.status.idle": "2020-10-04T12:03:56.480916Z",
     "shell.execute_reply": "2020-10-04T12:03:56.480337Z"
    },
    "papermill": {
     "duration": 0.12641,
     "end_time": "2020-10-04T12:03:56.481041",
     "exception": false,
     "start_time": "2020-10-04T12:03:56.354631",
     "status": "completed"
    },
    "tags": []
   },
   "outputs": [],
   "source": [
    "# loop to build a tree, make predictions and get the roc-auc\n",
    "# for each feature of the train set\n",
    "# Regression is used for feature selection and model selection"
   ]
  },
  {
   "cell_type": "code",
   "execution_count": 26,
   "metadata": {
    "execution": {
     "iopub.execute_input": "2020-10-04T12:03:56.735353Z",
     "iopub.status.busy": "2020-10-04T12:03:56.734694Z",
     "iopub.status.idle": "2020-10-04T12:03:58.152477Z",
     "shell.execute_reply": "2020-10-04T12:03:58.151708Z"
    },
    "papermill": {
     "duration": 1.550391,
     "end_time": "2020-10-04T12:03:58.152607",
     "exception": false,
     "start_time": "2020-10-04T12:03:56.602216",
     "status": "completed"
    },
    "tags": []
   },
   "outputs": [],
   "source": [
    "mse_values = []\n",
    "for feature in X_train.columns:\n",
    "    clf = DecisionTreeRegressor()\n",
    "    clf.fit(X_train[feature].fillna(0).to_frame(), Y_train)\n",
    "    Y_scored = clf.predict(X_test[feature].fillna(0).to_frame())\n",
    "    mse_values.append(mean_squared_error(Y_test, Y_scored))"
   ]
  },
  {
   "cell_type": "code",
   "execution_count": 27,
   "metadata": {
    "execution": {
     "iopub.execute_input": "2020-10-04T12:03:58.401489Z",
     "iopub.status.busy": "2020-10-04T12:03:58.398251Z",
     "iopub.status.idle": "2020-10-04T12:03:58.405782Z",
     "shell.execute_reply": "2020-10-04T12:03:58.405176Z"
    },
    "papermill": {
     "duration": 0.131952,
     "end_time": "2020-10-04T12:03:58.405894",
     "exception": false,
     "start_time": "2020-10-04T12:03:58.273942",
     "status": "completed"
    },
    "tags": []
   },
   "outputs": [
    {
     "data": {
      "text/plain": [
       "MinAbsEStateIndex    7.488379\n",
       "VSA_EState4          6.677878\n",
       "MinEStateIndex       6.672145\n",
       "VSA_EState5          6.181146\n",
       "qed                  5.952837\n",
       "                       ...   \n",
       "PEOE_VSA6            2.306038\n",
       "Kappa1               2.179751\n",
       "MolMR                1.882150\n",
       "HeavyAtomMolWt       1.665767\n",
       "MolLogP              1.430655\n",
       "Length: 200, dtype: float64"
      ]
     },
     "execution_count": 27,
     "metadata": {},
     "output_type": "execute_result"
    }
   ],
   "source": [
    "mse_values = pd.Series(mse_values)\n",
    "mse_values.index = X_train.columns\n",
    "mse_values.sort_values(ascending=False)"
   ]
  },
  {
   "cell_type": "code",
   "execution_count": 28,
   "metadata": {
    "execution": {
     "iopub.execute_input": "2020-10-04T12:03:58.654503Z",
     "iopub.status.busy": "2020-10-04T12:03:58.653796Z",
     "iopub.status.idle": "2020-10-04T12:03:58.658221Z",
     "shell.execute_reply": "2020-10-04T12:03:58.657746Z"
    },
    "papermill": {
     "duration": 0.131437,
     "end_time": "2020-10-04T12:03:58.658333",
     "exception": false,
     "start_time": "2020-10-04T12:03:58.526896",
     "status": "completed"
    },
    "tags": []
   },
   "outputs": [
    {
     "data": {
      "text/plain": [
       "MolLogP                   1.430655\n",
       "HeavyAtomMolWt            1.665767\n",
       "MolMR                     1.882150\n",
       "Kappa1                    2.179751\n",
       "PEOE_VSA6                 2.306038\n",
       "MolWt                     2.364471\n",
       "Chi0v                     2.412330\n",
       "LabuteASA                 2.526675\n",
       "NumValenceElectrons       2.684888\n",
       "HeavyAtomCount            2.694094\n",
       "Chi0                      2.875758\n",
       "SMR_VSA7                  2.913815\n",
       "Chi1                      2.987997\n",
       "Chi0n                     3.103530\n",
       "ExactMolWt                3.163318\n",
       "NumAromaticCarbocycles    3.176548\n",
       "fr_benzene                3.176548\n",
       "SMR_VSA10                 3.212858\n",
       "FpDensityMorgan1          3.215609\n",
       "EState_VSA9               3.291205\n",
       "dtype: float64"
      ]
     },
     "execution_count": 28,
     "metadata": {},
     "output_type": "execute_result"
    }
   ],
   "source": [
    "mse_values.sort_values(ascending=True).head(20)"
   ]
  },
  {
   "cell_type": "markdown",
   "metadata": {
    "papermill": {
     "duration": 0.12259,
     "end_time": "2020-10-04T12:03:58.901276",
     "exception": false,
     "start_time": "2020-10-04T12:03:58.778686",
     "status": "completed"
    },
    "tags": []
   },
   "source": [
    "## For regression, the smaller the mse, the better the model performance is.\n",
    "\n",
    "## For the mse, where to put the cut-off is arbitrary as well. It depends on how many features you would like to end up with.\n",
    "\n",
    "## we are taking the min 20 values as our feature."
   ]
  },
  {
   "cell_type": "code",
   "execution_count": 29,
   "metadata": {
    "execution": {
     "iopub.execute_input": "2020-10-04T12:03:59.146928Z",
     "iopub.status.busy": "2020-10-04T12:03:59.146317Z",
     "iopub.status.idle": "2020-10-04T12:03:59.149476Z",
     "shell.execute_reply": "2020-10-04T12:03:59.148877Z"
    },
    "papermill": {
     "duration": 0.128508,
     "end_time": "2020-10-04T12:03:59.149590",
     "exception": false,
     "start_time": "2020-10-04T12:03:59.021082",
     "status": "completed"
    },
    "tags": []
   },
   "outputs": [],
   "source": [
    "df_temp=pd.DataFrame(mse_values.sort_values(ascending=True).head(20))"
   ]
  },
  {
   "cell_type": "code",
   "execution_count": 30,
   "metadata": {
    "execution": {
     "iopub.execute_input": "2020-10-04T12:03:59.395841Z",
     "iopub.status.busy": "2020-10-04T12:03:59.395171Z",
     "iopub.status.idle": "2020-10-04T12:03:59.399652Z",
     "shell.execute_reply": "2020-10-04T12:03:59.399043Z"
    },
    "papermill": {
     "duration": 0.129235,
     "end_time": "2020-10-04T12:03:59.399762",
     "exception": false,
     "start_time": "2020-10-04T12:03:59.270527",
     "status": "completed"
    },
    "tags": []
   },
   "outputs": [
    {
     "data": {
      "text/plain": [
       "Index(['MolLogP', 'HeavyAtomMolWt', 'MolMR', 'Kappa1', 'PEOE_VSA6', 'MolWt',\n",
       "       'Chi0v', 'LabuteASA', 'NumValenceElectrons', 'HeavyAtomCount', 'Chi0',\n",
       "       'SMR_VSA7', 'Chi1', 'Chi0n', 'ExactMolWt', 'NumAromaticCarbocycles',\n",
       "       'fr_benzene', 'SMR_VSA10', 'FpDensityMorgan1', 'EState_VSA9'],\n",
       "      dtype='object')"
      ]
     },
     "execution_count": 30,
     "metadata": {},
     "output_type": "execute_result"
    }
   ],
   "source": [
    "df_temp.index"
   ]
  },
  {
   "cell_type": "code",
   "execution_count": 31,
   "metadata": {
    "execution": {
     "iopub.execute_input": "2020-10-04T12:03:59.654076Z",
     "iopub.status.busy": "2020-10-04T12:03:59.653441Z",
     "iopub.status.idle": "2020-10-04T12:03:59.656660Z",
     "shell.execute_reply": "2020-10-04T12:03:59.656067Z"
    },
    "papermill": {
     "duration": 0.133318,
     "end_time": "2020-10-04T12:03:59.656782",
     "exception": false,
     "start_time": "2020-10-04T12:03:59.523464",
     "status": "completed"
    },
    "tags": []
   },
   "outputs": [],
   "source": [
    "df_feature=df[['MolLogP', 'ExactMolWt', 'HeavyAtomMolWt', 'PEOE_VSA6', 'Kappa1',\n",
    "       'MolWt', 'SMR_VSA7', 'SMR_VSA10', 'HallKierAlpha', 'Chi0v', 'MolMR',\n",
    "       'LabuteASA', 'fr_benzene', 'NumAromaticCarbocycles', 'Chi0',\n",
    "       'FpDensityMorgan1', 'NumValenceElectrons', 'EState_VSA9', 'SlogP_VSA8',\n",
    "       'HeavyAtomCount']]"
   ]
  },
  {
   "cell_type": "code",
   "execution_count": 32,
   "metadata": {
    "execution": {
     "iopub.execute_input": "2020-10-04T12:03:59.904621Z",
     "iopub.status.busy": "2020-10-04T12:03:59.903799Z",
     "iopub.status.idle": "2020-10-04T12:03:59.907862Z",
     "shell.execute_reply": "2020-10-04T12:03:59.907348Z"
    },
    "papermill": {
     "duration": 0.130551,
     "end_time": "2020-10-04T12:03:59.907970",
     "exception": false,
     "start_time": "2020-10-04T12:03:59.777419",
     "status": "completed"
    },
    "tags": []
   },
   "outputs": [
    {
     "data": {
      "text/plain": [
       "(1144, 20)"
      ]
     },
     "execution_count": 32,
     "metadata": {},
     "output_type": "execute_result"
    }
   ],
   "source": [
    "df_feature.shape"
   ]
  },
  {
   "cell_type": "code",
   "execution_count": 33,
   "metadata": {
    "execution": {
     "iopub.execute_input": "2020-10-04T12:04:00.153827Z",
     "iopub.status.busy": "2020-10-04T12:04:00.153184Z",
     "iopub.status.idle": "2020-10-04T12:04:00.155675Z",
     "shell.execute_reply": "2020-10-04T12:04:00.155182Z"
    },
    "papermill": {
     "duration": 0.127151,
     "end_time": "2020-10-04T12:04:00.155780",
     "exception": false,
     "start_time": "2020-10-04T12:04:00.028629",
     "status": "completed"
    },
    "tags": []
   },
   "outputs": [],
   "source": [
    "X=df_feature\n",
    "Y=data_slice2"
   ]
  },
  {
   "cell_type": "code",
   "execution_count": 34,
   "metadata": {
    "execution": {
     "iopub.execute_input": "2020-10-04T12:04:00.405785Z",
     "iopub.status.busy": "2020-10-04T12:04:00.404510Z",
     "iopub.status.idle": "2020-10-04T12:04:00.408798Z",
     "shell.execute_reply": "2020-10-04T12:04:00.408290Z"
    },
    "papermill": {
     "duration": 0.13133,
     "end_time": "2020-10-04T12:04:00.408916",
     "exception": false,
     "start_time": "2020-10-04T12:04:00.277586",
     "status": "completed"
    },
    "tags": []
   },
   "outputs": [],
   "source": [
    "X_train, X_test, Y_train, Y_test = train_test_split(X, Y, test_size=0.2)"
   ]
  },
  {
   "cell_type": "code",
   "execution_count": 35,
   "metadata": {
    "execution": {
     "iopub.execute_input": "2020-10-04T12:04:00.656561Z",
     "iopub.status.busy": "2020-10-04T12:04:00.655838Z",
     "iopub.status.idle": "2020-10-04T12:04:00.660390Z",
     "shell.execute_reply": "2020-10-04T12:04:00.659847Z"
    },
    "papermill": {
     "duration": 0.130076,
     "end_time": "2020-10-04T12:04:00.660511",
     "exception": false,
     "start_time": "2020-10-04T12:04:00.530435",
     "status": "completed"
    },
    "tags": []
   },
   "outputs": [
    {
     "data": {
      "text/plain": [
       "((915, 20), (915, 1))"
      ]
     },
     "execution_count": 35,
     "metadata": {},
     "output_type": "execute_result"
    }
   ],
   "source": [
    "X_train.shape, Y_train.shape"
   ]
  },
  {
   "cell_type": "markdown",
   "metadata": {
    "papermill": {
     "duration": 0.121582,
     "end_time": "2020-10-04T12:04:00.903448",
     "exception": false,
     "start_time": "2020-10-04T12:04:00.781866",
     "status": "completed"
    },
    "tags": []
   },
   "source": [
    "## regression model with  random forest"
   ]
  },
  {
   "cell_type": "code",
   "execution_count": 36,
   "metadata": {
    "execution": {
     "iopub.execute_input": "2020-10-04T12:04:01.153826Z",
     "iopub.status.busy": "2020-10-04T12:04:01.153094Z",
     "iopub.status.idle": "2020-10-04T12:04:02.019352Z",
     "shell.execute_reply": "2020-10-04T12:04:02.018767Z"
    },
    "papermill": {
     "duration": 0.993691,
     "end_time": "2020-10-04T12:04:02.019463",
     "exception": false,
     "start_time": "2020-10-04T12:04:01.025772",
     "status": "completed"
    },
    "tags": []
   },
   "outputs": [
    {
     "data": {
      "text/plain": [
       "0.8870000633592645"
      ]
     },
     "execution_count": 36,
     "metadata": {},
     "output_type": "execute_result"
    }
   ],
   "source": [
    "from sklearn.ensemble import RandomForestRegressor\n",
    "model = RandomForestRegressor(n_estimators=100)\n",
    "model.fit(X_train, Y_train)\n",
    "r2 = model.score(X_test, Y_test)\n",
    "r2"
   ]
  },
  {
   "cell_type": "code",
   "execution_count": 37,
   "metadata": {
    "execution": {
     "iopub.execute_input": "2020-10-04T12:04:02.304857Z",
     "iopub.status.busy": "2020-10-04T12:04:02.303948Z",
     "iopub.status.idle": "2020-10-04T12:04:02.323021Z",
     "shell.execute_reply": "2020-10-04T12:04:02.323564Z"
    },
    "papermill": {
     "duration": 0.181188,
     "end_time": "2020-10-04T12:04:02.323708",
     "exception": false,
     "start_time": "2020-10-04T12:04:02.142520",
     "status": "completed"
    },
    "tags": []
   },
   "outputs": [],
   "source": [
    "Y_pred = model.predict(X_test)"
   ]
  },
  {
   "cell_type": "code",
   "execution_count": 38,
   "metadata": {
    "execution": {
     "iopub.execute_input": "2020-10-04T12:04:02.572263Z",
     "iopub.status.busy": "2020-10-04T12:04:02.571609Z",
     "iopub.status.idle": "2020-10-04T12:04:02.698329Z",
     "shell.execute_reply": "2020-10-04T12:04:02.697741Z"
    },
    "papermill": {
     "duration": 0.252384,
     "end_time": "2020-10-04T12:04:02.698445",
     "exception": false,
     "start_time": "2020-10-04T12:04:02.446061",
     "status": "completed"
    },
    "tags": []
   },
   "outputs": [],
   "source": [
    "import seaborn as sns\n",
    "import matplotlib.pyplot as plt\n"
   ]
  },
  {
   "cell_type": "code",
   "execution_count": 39,
   "metadata": {
    "execution": {
     "iopub.execute_input": "2020-10-04T12:04:02.952406Z",
     "iopub.status.busy": "2020-10-04T12:04:02.951668Z",
     "iopub.status.idle": "2020-10-04T12:04:02.955616Z",
     "shell.execute_reply": "2020-10-04T12:04:02.955034Z"
    },
    "papermill": {
     "duration": 0.13522,
     "end_time": "2020-10-04T12:04:02.955724",
     "exception": false,
     "start_time": "2020-10-04T12:04:02.820504",
     "status": "completed"
    },
    "tags": []
   },
   "outputs": [
    {
     "data": {
      "text/plain": [
       "0.8701499999999994"
      ]
     },
     "execution_count": 39,
     "metadata": {},
     "output_type": "execute_result"
    }
   ],
   "source": [
    "Y_pred.max()"
   ]
  },
  {
   "cell_type": "code",
   "execution_count": 40,
   "metadata": {
    "execution": {
     "iopub.execute_input": "2020-10-04T12:04:03.264812Z",
     "iopub.status.busy": "2020-10-04T12:04:03.248723Z",
     "iopub.status.idle": "2020-10-04T12:04:03.678694Z",
     "shell.execute_reply": "2020-10-04T12:04:03.679275Z"
    },
    "papermill": {
     "duration": 0.591628,
     "end_time": "2020-10-04T12:04:03.679417",
     "exception": false,
     "start_time": "2020-10-04T12:04:03.087789",
     "status": "completed"
    },
    "tags": []
   },
   "outputs": [
    {
     "data": {
      "image/png": "[encoded data removed]",
      "text/plain": [
       "<Figure size 432x288 with 1 Axes>"
      ]
     },
     "metadata": {
      "needs_background": "light"
     },
     "output_type": "display_data"
    }
   ],
   "source": [
    "ax = sns.regplot(Y_test, Y_pred, scatter_kws={'alpha':0.5})\n",
    "ax.set_xlabel('experimental solubuility values: RandomFor')\n",
    "ax.set_ylabel('predicted solubuility values: RandomFor')\n",
    "ax.set_xlim(-9, 2)\n",
    "ax.set_ylim(-9, 2)\n",
    "plt.show()"
   ]
  },
  {
   "cell_type": "markdown",
   "metadata": {
    "papermill": {
     "duration": 0.124482,
     "end_time": "2020-10-04T12:04:03.926861",
     "exception": false,
     "start_time": "2020-10-04T12:04:03.802379",
     "status": "completed"
    },
    "tags": []
   },
   "source": [
    "## regression model with LASSO\n"
   ]
  },
  {
   "cell_type": "code",
   "execution_count": 41,
   "metadata": {
    "execution": {
     "iopub.execute_input": "2020-10-04T12:04:04.184734Z",
     "iopub.status.busy": "2020-10-04T12:04:04.181712Z",
     "iopub.status.idle": "2020-10-04T12:04:04.198681Z",
     "shell.execute_reply": "2020-10-04T12:04:04.199145Z"
    },
    "papermill": {
     "duration": 0.149643,
     "end_time": "2020-10-04T12:04:04.199294",
     "exception": false,
     "start_time": "2020-10-04T12:04:04.049651",
     "status": "completed"
    },
    "tags": []
   },
   "outputs": [
    {
     "data": {
      "text/plain": [
       "0.7964626385470599"
      ]
     },
     "execution_count": 41,
     "metadata": {},
     "output_type": "execute_result"
    }
   ],
   "source": [
    "from sklearn import linear_model\n",
    "clf = linear_model.Lasso(alpha=0.1)\n",
    "clf.fit(X_train, Y_train)\n",
    "r2 = clf.score(X_test, Y_test)\n",
    "r2"
   ]
  },
  {
   "cell_type": "code",
   "execution_count": 42,
   "metadata": {
    "execution": {
     "iopub.execute_input": "2020-10-04T12:04:04.456204Z",
     "iopub.status.busy": "2020-10-04T12:04:04.455575Z",
     "iopub.status.idle": "2020-10-04T12:04:04.458815Z",
     "shell.execute_reply": "2020-10-04T12:04:04.458275Z"
    },
    "papermill": {
     "duration": 0.134149,
     "end_time": "2020-10-04T12:04:04.458925",
     "exception": false,
     "start_time": "2020-10-04T12:04:04.324776",
     "status": "completed"
    },
    "tags": []
   },
   "outputs": [],
   "source": [
    "Y_predlaso = clf.predict(X_test)"
   ]
  },
  {
   "cell_type": "code",
   "execution_count": 43,
   "metadata": {
    "execution": {
     "iopub.execute_input": "2020-10-04T12:04:04.731808Z",
     "iopub.status.busy": "2020-10-04T12:04:04.725651Z",
     "iopub.status.idle": "2020-10-04T12:04:04.981251Z",
     "shell.execute_reply": "2020-10-04T12:04:04.980589Z"
    },
    "papermill": {
     "duration": 0.3858,
     "end_time": "2020-10-04T12:04:04.981372",
     "exception": false,
     "start_time": "2020-10-04T12:04:04.595572",
     "status": "completed"
    },
    "tags": []
   },
   "outputs": [
    {
     "data": {
      "image/png": "[encoded data removed]",
      "text/plain": [
       "<Figure size 432x288 with 1 Axes>"
      ]
     },
     "metadata": {
      "needs_background": "light"
     },
     "output_type": "display_data"
    }
   ],
   "source": [
    "ax = sns.regplot(Y_test, Y_predlaso, scatter_kws={'alpha':0.5})\n",
    "ax.set_xlabel('experimental solubuility values: LASSO')\n",
    "ax.set_ylabel('predicted solubuility values: LASSO')\n",
    "ax.set_xlim(-9, 2)\n",
    "ax.set_ylim(-9, 2)\n",
    "plt.show()"
   ]
  },
  {
   "cell_type": "markdown",
   "metadata": {
    "papermill": {
     "duration": 0.124601,
     "end_time": "2020-10-04T12:04:05.231896",
     "exception": false,
     "start_time": "2020-10-04T12:04:05.107295",
     "status": "completed"
    },
    "tags": []
   },
   "source": [
    "**Xgboost**"
   ]
  },
  {
   "cell_type": "code",
   "execution_count": 44,
   "metadata": {
    "execution": {
     "iopub.execute_input": "2020-10-04T12:04:05.489315Z",
     "iopub.status.busy": "2020-10-04T12:04:05.488603Z",
     "iopub.status.idle": "2020-10-04T12:04:06.176439Z",
     "shell.execute_reply": "2020-10-04T12:04:06.175725Z"
    },
    "papermill": {
     "duration": 0.818726,
     "end_time": "2020-10-04T12:04:06.176557",
     "exception": false,
     "start_time": "2020-10-04T12:04:05.357831",
     "status": "completed"
    },
    "tags": []
   },
   "outputs": [],
   "source": [
    "import xgboost as xgb"
   ]
  },
  {
   "cell_type": "code",
   "execution_count": 45,
   "metadata": {
    "execution": {
     "iopub.execute_input": "2020-10-04T12:04:06.432709Z",
     "iopub.status.busy": "2020-10-04T12:04:06.431869Z",
     "iopub.status.idle": "2020-10-04T12:04:06.434306Z",
     "shell.execute_reply": "2020-10-04T12:04:06.434745Z"
    },
    "papermill": {
     "duration": 0.132609,
     "end_time": "2020-10-04T12:04:06.434882",
     "exception": false,
     "start_time": "2020-10-04T12:04:06.302273",
     "status": "completed"
    },
    "tags": []
   },
   "outputs": [],
   "source": [
    "xgb_model = xgb.XGBRegressor(objective=\"reg:linear\", random_state=50)"
   ]
  },
  {
   "cell_type": "code",
   "execution_count": 46,
   "metadata": {
    "execution": {
     "iopub.execute_input": "2020-10-04T12:04:06.693865Z",
     "iopub.status.busy": "2020-10-04T12:04:06.693256Z",
     "iopub.status.idle": "2020-10-04T12:04:06.851356Z",
     "shell.execute_reply": "2020-10-04T12:04:06.852202Z"
    },
    "papermill": {
     "duration": 0.288194,
     "end_time": "2020-10-04T12:04:06.852368",
     "exception": false,
     "start_time": "2020-10-04T12:04:06.564174",
     "status": "completed"
    },
    "tags": []
   },
   "outputs": [
    {
     "name": "stdout",
     "output_type": "stream",
     "text": [
      "[12:04:06] WARNING: ../src/objective/regression_obj.cu:174: reg:linear is now deprecated in favor of reg:squarederror.\n",
      "[12:04:06] WARNING: ../src/objective/regression_obj.cu:174: reg:linear is now deprecated in favor of reg:squarederror.\n"
     ]
    },
    {
     "data": {
      "text/plain": [
       "XGBRegressor(base_score=0.5, booster='gbtree', colsample_bylevel=1,\n",
       "             colsample_bynode=1, colsample_bytree=1, gamma=0, gpu_id=-1,\n",
       "             importance_type='gain', interaction_constraints='',\n",
       "             learning_rate=0.300000012, max_delta_step=0, max_depth=6,\n",
       "             min_child_weight=1, missing=nan, monotone_constraints='()',\n",
       "             n_estimators=100, n_jobs=0, num_parallel_tree=1,\n",
       "             objective='reg:linear', random_state=50, reg_alpha=0, reg_lambda=1,\n",
       "             scale_pos_weight=1, subsample=1, tree_method='exact',\n",
       "             validate_parameters=1, verbosity=None)"
      ]
     },
     "execution_count": 46,
     "metadata": {},
     "output_type": "execute_result"
    }
   ],
   "source": [
    "xgb_model.fit(X_train, Y_train)"
   ]
  },
  {
   "cell_type": "code",
   "execution_count": 47,
   "metadata": {
    "execution": {
     "iopub.execute_input": "2020-10-04T12:04:07.165232Z",
     "iopub.status.busy": "2020-10-04T12:04:07.164386Z",
     "iopub.status.idle": "2020-10-04T12:04:07.171877Z",
     "shell.execute_reply": "2020-10-04T12:04:07.172474Z"
    },
    "papermill": {
     "duration": 0.151345,
     "end_time": "2020-10-04T12:04:07.172658",
     "exception": false,
     "start_time": "2020-10-04T12:04:07.021313",
     "status": "completed"
    },
    "tags": []
   },
   "outputs": [],
   "source": [
    "Y_predxgb = xgb_model.predict(X_test)"
   ]
  },
  {
   "cell_type": "code",
   "execution_count": 48,
   "metadata": {
    "execution": {
     "iopub.execute_input": "2020-10-04T12:04:07.574196Z",
     "iopub.status.busy": "2020-10-04T12:04:07.573162Z",
     "iopub.status.idle": "2020-10-04T12:04:07.576598Z",
     "shell.execute_reply": "2020-10-04T12:04:07.577375Z"
    },
    "papermill": {
     "duration": 0.211687,
     "end_time": "2020-10-04T12:04:07.577574",
     "exception": false,
     "start_time": "2020-10-04T12:04:07.365887",
     "status": "completed"
    },
    "tags": []
   },
   "outputs": [
    {
     "name": "stdout",
     "output_type": "stream",
     "text": [
      "0.6639247050304932\n"
     ]
    }
   ],
   "source": [
    "mse=mean_squared_error(Y_test, Y_predxgb)\n",
    "\n",
    "print(np.sqrt(mse))"
   ]
  },
  {
   "cell_type": "code",
   "execution_count": 49,
   "metadata": {
    "execution": {
     "iopub.execute_input": "2020-10-04T12:04:07.867399Z",
     "iopub.status.busy": "2020-10-04T12:04:07.863704Z",
     "iopub.status.idle": "2020-10-04T12:04:08.135784Z",
     "shell.execute_reply": "2020-10-04T12:04:08.135123Z"
    },
    "papermill": {
     "duration": 0.408661,
     "end_time": "2020-10-04T12:04:08.135920",
     "exception": false,
     "start_time": "2020-10-04T12:04:07.727259",
     "status": "completed"
    },
    "tags": []
   },
   "outputs": [
    {
     "data": {
      "image/png": "[encoded data removed]",
      "text/plain": [
       "<Figure size 432x288 with 1 Axes>"
      ]
     },
     "metadata": {
      "needs_background": "light"
     },
     "output_type": "display_data"
    }
   ],
   "source": [
    "ax = sns.regplot(Y_test, Y_predxgb, scatter_kws={'alpha':0.5})\n",
    "ax.set_xlabel('experimental solubuility values: xgb')\n",
    "ax.set_ylabel('predicted solubuility values: xgb')\n",
    "ax.set_xlim(-9, 2)\n",
    "ax.set_ylim(-9, 2)\n",
    "plt.show()"
   ]
  },
  {
   "cell_type": "markdown",
   "metadata": {
    "papermill": {
     "duration": 0.129103,
     "end_time": "2020-10-04T12:04:08.397917",
     "exception": false,
     "start_time": "2020-10-04T12:04:08.268814",
     "status": "completed"
    },
    "tags": []
   },
   "source": [
    "## From the above three model we can infer that the score of the Random Forest is highest w.r.t the LASSO and XGBoost.\n",
    "\n",
    "## So, on the basis of the model score I will go with the RANDOM FOREST MODEL.\n",
    "\n",
    "## Here the feature selection is is based on the Univariate roc-auc. it is a regression model.\n",
    "\n",
    "### ***please upvote this notebook if it is helpful, thanks *** "
   ]
  },
  {
   "cell_type": "code",
   "execution_count": null,
   "metadata": {
    "papermill": {
     "duration": 0.160668,
     "end_time": "2020-10-04T12:04:08.687179",
     "exception": false,
     "start_time": "2020-10-04T12:04:08.526511",
     "status": "completed"
    },
    "tags": []
   },
   "outputs": [],
   "source": []
  }
 ],
 "metadata": {
  "kernelspec": {
   "display_name": "Python 3",
   "language": "python",
   "name": "python3"
  },
  "language_info": {
   "codemirror_mode": {
    "name": "ipython",
    "version": 3
   },
   "file_extension": ".py",
   "mimetype": "text/x-python",
   "name": "python",
   "nbconvert_exporter": "python",
   "pygments_lexer": "ipython3",
   "version": "3.7.6"
  },
  "papermill": {
   "duration": 121.076716,
   "end_time": "2020-10-04T12:04:09.857351",
   "environment_variables": {},
   "exception": null,
   "input_path": "__notebook__.ipynb",
   "output_path": "__notebook__.ipynb",
   "parameters": {},
   "start_time": "2020-10-04T12:02:08.780635",
   "version": "2.1.0"
  }
 },
 "nbformat": 4,
 "nbformat_minor": 4
}
